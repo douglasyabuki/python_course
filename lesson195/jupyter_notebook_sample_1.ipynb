{
 "cells": [
  {
   "cell_type": "code",
   "execution_count": null,
   "id": "d81942c8",
   "metadata": {
    "vscode": {
     "languageId": "markdown"
    }
   },
   "outputs": [],
   "source": [
    "# Jupyter Notebook - Installation and testing"
   ]
  },
  {
   "cell_type": "code",
   "execution_count": null,
   "id": "b0cff368",
   "metadata": {
    "vscode": {
     "languageId": "markdown"
    }
   },
   "outputs": [],
   "source": [
    "# This line creates a variable `a`"
   ]
  },
  {
   "cell_type": "code",
   "execution_count": null,
   "id": "77e3a175",
   "metadata": {},
   "outputs": [],
   "source": [
    "a = 2"
   ]
  },
  {
   "cell_type": "markdown",
   "id": "5cb1e41d",
   "metadata": {},
   "source": [
    "# This line sets variable `b` to twice the value of `a`"
   ]
  },
  {
   "cell_type": "code",
   "execution_count": null,
   "id": "a30d1615",
   "metadata": {},
   "outputs": [],
   "source": [
    "b = a * 2  # 4"
   ]
  },
  {
   "cell_type": "markdown",
   "id": "65df8222",
   "metadata": {},
   "source": [
    "# This line prints the sum of `a` and `b`"
   ]
  },
  {
   "cell_type": "code",
   "execution_count": null,
   "id": "9e5cc241",
   "metadata": {},
   "outputs": [],
   "source": [
    "print(a + b)  # 6"
   ]
  }
 ],
 "metadata": {
  "kernelspec": {
   "display_name": ".venv",
   "language": "python",
   "name": "python3"
  },
  "language_info": {
   "codemirror_mode": {
    "name": "ipython",
    "version": 3
   },
   "file_extension": ".py",
   "mimetype": "text/x-python",
   "name": "python",
   "nbconvert_exporter": "python",
   "pygments_lexer": "ipython3",
   "version": "3.13.2"
  }
 },
 "nbformat": 4,
 "nbformat_minor": 5
}
